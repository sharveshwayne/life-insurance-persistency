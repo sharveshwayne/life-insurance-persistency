{
 "cells": [
  {
   "cell_type": "markdown",
   "metadata": {},
   "source": [
    "#### Checking Python version"
   ]
  },
  {
   "cell_type": "code",
   "execution_count": 2,
   "metadata": {},
   "outputs": [
    {
     "name": "stdout",
     "output_type": "stream",
     "text": [
      "Python 3.8.8\n"
     ]
    }
   ],
   "source": [
    "!python -V"
   ]
  },
  {
   "attachments": {},
   "cell_type": "markdown",
   "metadata": {},
   "source": [
    "This is the same code present in `persistency_third_experiment - mlflow + hyperopt + xgboost - new data.ipynb`. I have just copied the notebook and renamed it. In this notebook, I am using the new data `master_data - modified3.csv` which I have renamed to `master_data_final2.csv` in this folder.\n",
    "\n",
    "I am using a random forest model with hyperopt to compare the previous xgboost model"
   ]
  },
  {
   "cell_type": "markdown",
   "metadata": {},
   "source": [
    "#### Importing libraries"
   ]
  },
  {
   "cell_type": "code",
   "execution_count": 3,
   "metadata": {},
   "outputs": [],
   "source": [
    "import os\n",
    "import warnings\n",
    "warnings.simplefilter(\"ignore\", UserWarning)\n",
    "\n",
    "import numpy as np\n",
    "import pandas as pd\n",
    "pd.set_option('display.max_columns', None)\n",
    "\n",
    "from datetime import datetime as dt\n",
    "import pickle\n",
    "\n",
    "import matplotlib.pyplot as plt\n",
    "from matplotlib.figure import Figure\n",
    "%matplotlib inline\n",
    "import seaborn as sns\n",
    "\n",
    "from feature_engine import encoding as ce\n",
    "from feature_engine import imputation as mdi\n",
    "from sklearn.preprocessing import StandardScaler\n",
    "from sklearn.pipeline import Pipeline\n",
    "\n",
    "from sklearn.model_selection import train_test_split\n",
    "from sklearn.ensemble import RandomForestClassifier\n",
    "\n",
    "from hyperopt import fmin, tpe, hp, STATUS_OK, Trials\n",
    "from hyperopt.pyll import scope\n",
    "\n",
    "from sklearn.metrics import roc_auc_score, classification_report, confusion_matrix, accuracy_score, recall_score, precision_score, f1_score\n",
    "import sklearn.metrics as metrics"
   ]
  },
  {
   "cell_type": "markdown",
   "metadata": {},
   "source": [
    "#### Importing mlflow and setting tracking uri"
   ]
  },
  {
   "cell_type": "code",
   "execution_count": 4,
   "metadata": {},
   "outputs": [
    {
     "data": {
      "text/plain": [
       "<Experiment: artifact_location='./mlruns/1', creation_time=1673260171550, experiment_id='1', last_update_time=1673260171550, lifecycle_stage='active', name='persistency-prediction-experiment', tags={}>"
      ]
     },
     "execution_count": 4,
     "metadata": {},
     "output_type": "execute_result"
    }
   ],
   "source": [
    "import mlflow\n",
    "\n",
    "mlflow.set_tracking_uri(\"sqlite:///mlflow.db\")\n",
    "mlflow.set_experiment(\"persistency-prediction-experiment\")"
   ]
  },
  {
   "cell_type": "markdown",
   "metadata": {},
   "source": [
    "#### Importing data"
   ]
  },
  {
   "cell_type": "code",
   "execution_count": 7,
   "metadata": {},
   "outputs": [],
   "source": [
    "INPUT_FILEPATH = 'data'\n",
    "INPUT_FILENAME = 'master_data_final2.csv'\n",
    "\n",
    "INDEX = 'policy_number'\n",
    "DATE_COLS = ['proposal_received_date', 'policy_issue_date', 'agent_dob', 'agent_doj']\n",
    "NA_VALUES = ['', 'NA', 'N/A', 'NULL', 'null', '?', '*', '#N/A', '#VALUE!']\n",
    "DTYPE_DICT = {'zipcode': 'str', 'agent_code': 'str'} ## These columns should be string"
   ]
  },
  {
   "cell_type": "code",
   "execution_count": 8,
   "metadata": {},
   "outputs": [],
   "source": [
    "def load_data(INPUT_FILEPATH, INPUT_FILENAME):\n",
    "    input_df = pd.read_csv(os.path.join(INPUT_FILEPATH, INPUT_FILENAME),\n",
    "                      index_col = INDEX,\n",
    "                      na_values = NA_VALUES,\n",
    "                      parse_dates = DATE_COLS,\n",
    "                      dayfirst = True,\n",
    "                      dtype = DTYPE_DICT)\n",
    "                    \n",
    "    return input_df"
   ]
  },
  {
   "cell_type": "code",
   "execution_count": 9,
   "metadata": {},
   "outputs": [
    {
     "data": {
      "text/html": [
       "<div>\n",
       "<style scoped>\n",
       "    .dataframe tbody tr th:only-of-type {\n",
       "        vertical-align: middle;\n",
       "    }\n",
       "\n",
       "    .dataframe tbody tr th {\n",
       "        vertical-align: top;\n",
       "    }\n",
       "\n",
       "    .dataframe thead th {\n",
       "        text-align: right;\n",
       "    }\n",
       "</style>\n",
       "<table border=\"1\" class=\"dataframe\">\n",
       "  <thead>\n",
       "    <tr style=\"text-align: right;\">\n",
       "      <th></th>\n",
       "      <th>proposal_received_date</th>\n",
       "      <th>policy_issue_date</th>\n",
       "      <th>owner_age</th>\n",
       "      <th>owner_gender</th>\n",
       "      <th>marital_status</th>\n",
       "      <th>num_nominee</th>\n",
       "      <th>smoker</th>\n",
       "      <th>medical</th>\n",
       "      <th>education</th>\n",
       "      <th>occupation</th>\n",
       "      <th>experience</th>\n",
       "      <th>income</th>\n",
       "      <th>zipcode</th>\n",
       "      <th>county</th>\n",
       "      <th>state</th>\n",
       "      <th>negative_zipcode</th>\n",
       "      <th>family_member</th>\n",
       "      <th>existing_num_policy</th>\n",
       "      <th>has_critical_health_history</th>\n",
       "      <th>policy_term</th>\n",
       "      <th>payment_freq</th>\n",
       "      <th>annual_premium</th>\n",
       "      <th>sum_insured</th>\n",
       "      <th>agent_code</th>\n",
       "      <th>agent_dob</th>\n",
       "      <th>agent_doj</th>\n",
       "      <th>agent_status</th>\n",
       "      <th>agent_education</th>\n",
       "      <th>agent_age</th>\n",
       "      <th>agent_tenure_days</th>\n",
       "      <th>agent_persistency</th>\n",
       "      <th>last_6_month_submissions</th>\n",
       "      <th>average_premium</th>\n",
       "      <th>is_reinstated</th>\n",
       "      <th>prev_persistency</th>\n",
       "      <th>num_complaints</th>\n",
       "      <th>target_completion_perc</th>\n",
       "      <th>has_contacted_in_last_6_months</th>\n",
       "      <th>credit_score</th>\n",
       "      <th>lapse</th>\n",
       "    </tr>\n",
       "    <tr>\n",
       "      <th>policy_number</th>\n",
       "      <th></th>\n",
       "      <th></th>\n",
       "      <th></th>\n",
       "      <th></th>\n",
       "      <th></th>\n",
       "      <th></th>\n",
       "      <th></th>\n",
       "      <th></th>\n",
       "      <th></th>\n",
       "      <th></th>\n",
       "      <th></th>\n",
       "      <th></th>\n",
       "      <th></th>\n",
       "      <th></th>\n",
       "      <th></th>\n",
       "      <th></th>\n",
       "      <th></th>\n",
       "      <th></th>\n",
       "      <th></th>\n",
       "      <th></th>\n",
       "      <th></th>\n",
       "      <th></th>\n",
       "      <th></th>\n",
       "      <th></th>\n",
       "      <th></th>\n",
       "      <th></th>\n",
       "      <th></th>\n",
       "      <th></th>\n",
       "      <th></th>\n",
       "      <th></th>\n",
       "      <th></th>\n",
       "      <th></th>\n",
       "      <th></th>\n",
       "      <th></th>\n",
       "      <th></th>\n",
       "      <th></th>\n",
       "      <th></th>\n",
       "      <th></th>\n",
       "      <th></th>\n",
       "      <th></th>\n",
       "    </tr>\n",
       "  </thead>\n",
       "  <tbody>\n",
       "    <tr>\n",
       "      <th>1</th>\n",
       "      <td>2020-09-08</td>\n",
       "      <td>2020-09-08</td>\n",
       "      <td>22</td>\n",
       "      <td>Female</td>\n",
       "      <td>Single</td>\n",
       "      <td>1</td>\n",
       "      <td>No</td>\n",
       "      <td>No</td>\n",
       "      <td>Graduate</td>\n",
       "      <td>Sales</td>\n",
       "      <td>1</td>\n",
       "      <td>50000</td>\n",
       "      <td>19111</td>\n",
       "      <td>Philadelphia County</td>\n",
       "      <td>PA</td>\n",
       "      <td>0</td>\n",
       "      <td>1</td>\n",
       "      <td>0</td>\n",
       "      <td>0</td>\n",
       "      <td>25</td>\n",
       "      <td>Annually</td>\n",
       "      <td>377</td>\n",
       "      <td>580019</td>\n",
       "      <td>60503862</td>\n",
       "      <td>1997-07-03</td>\n",
       "      <td>2020-08-31</td>\n",
       "      <td>Active</td>\n",
       "      <td>Graduate</td>\n",
       "      <td>23</td>\n",
       "      <td>8</td>\n",
       "      <td>0.76</td>\n",
       "      <td>35</td>\n",
       "      <td>377</td>\n",
       "      <td>1</td>\n",
       "      <td>0.67</td>\n",
       "      <td>1</td>\n",
       "      <td>0.98</td>\n",
       "      <td>1</td>\n",
       "      <td>762</td>\n",
       "      <td>0</td>\n",
       "    </tr>\n",
       "    <tr>\n",
       "      <th>2</th>\n",
       "      <td>2020-08-24</td>\n",
       "      <td>2020-08-26</td>\n",
       "      <td>33</td>\n",
       "      <td>Female</td>\n",
       "      <td>Single</td>\n",
       "      <td>1</td>\n",
       "      <td>No</td>\n",
       "      <td>No</td>\n",
       "      <td>High School</td>\n",
       "      <td>Housewife</td>\n",
       "      <td>0</td>\n",
       "      <td>0</td>\n",
       "      <td>7764</td>\n",
       "      <td>Monmouth County</td>\n",
       "      <td>NJ</td>\n",
       "      <td>0</td>\n",
       "      <td>1</td>\n",
       "      <td>0</td>\n",
       "      <td>0</td>\n",
       "      <td>20</td>\n",
       "      <td>Quaterly</td>\n",
       "      <td>671</td>\n",
       "      <td>829002</td>\n",
       "      <td>60422713</td>\n",
       "      <td>1980-03-28</td>\n",
       "      <td>2018-05-17</td>\n",
       "      <td>Active</td>\n",
       "      <td>High School</td>\n",
       "      <td>40</td>\n",
       "      <td>830</td>\n",
       "      <td>0.87</td>\n",
       "      <td>54</td>\n",
       "      <td>671</td>\n",
       "      <td>0</td>\n",
       "      <td>0.00</td>\n",
       "      <td>4</td>\n",
       "      <td>0.90</td>\n",
       "      <td>1</td>\n",
       "      <td>794</td>\n",
       "      <td>0</td>\n",
       "    </tr>\n",
       "    <tr>\n",
       "      <th>3</th>\n",
       "      <td>2020-08-24</td>\n",
       "      <td>2020-08-24</td>\n",
       "      <td>29</td>\n",
       "      <td>Female</td>\n",
       "      <td>Married</td>\n",
       "      <td>1</td>\n",
       "      <td>No</td>\n",
       "      <td>No</td>\n",
       "      <td>Lt High School</td>\n",
       "      <td>Other Service</td>\n",
       "      <td>13</td>\n",
       "      <td>100000</td>\n",
       "      <td>26335</td>\n",
       "      <td>Braxton County</td>\n",
       "      <td>WV</td>\n",
       "      <td>0</td>\n",
       "      <td>2</td>\n",
       "      <td>1</td>\n",
       "      <td>0</td>\n",
       "      <td>10</td>\n",
       "      <td>Annually</td>\n",
       "      <td>210</td>\n",
       "      <td>659027</td>\n",
       "      <td>60450939</td>\n",
       "      <td>1978-06-25</td>\n",
       "      <td>2019-02-25</td>\n",
       "      <td>Inactive</td>\n",
       "      <td>Some College</td>\n",
       "      <td>42</td>\n",
       "      <td>546</td>\n",
       "      <td>0.93</td>\n",
       "      <td>0</td>\n",
       "      <td>579</td>\n",
       "      <td>0</td>\n",
       "      <td>0.00</td>\n",
       "      <td>8</td>\n",
       "      <td>0.93</td>\n",
       "      <td>1</td>\n",
       "      <td>800</td>\n",
       "      <td>0</td>\n",
       "    </tr>\n",
       "    <tr>\n",
       "      <th>4</th>\n",
       "      <td>2020-08-24</td>\n",
       "      <td>2020-08-24</td>\n",
       "      <td>57</td>\n",
       "      <td>Male</td>\n",
       "      <td>Divorced</td>\n",
       "      <td>1</td>\n",
       "      <td>No</td>\n",
       "      <td>Yes</td>\n",
       "      <td>Graduate</td>\n",
       "      <td>Military</td>\n",
       "      <td>36</td>\n",
       "      <td>242286</td>\n",
       "      <td>98241</td>\n",
       "      <td>Skagit County</td>\n",
       "      <td>WA</td>\n",
       "      <td>0</td>\n",
       "      <td>3</td>\n",
       "      <td>0</td>\n",
       "      <td>0</td>\n",
       "      <td>15</td>\n",
       "      <td>Annually</td>\n",
       "      <td>1863</td>\n",
       "      <td>612890</td>\n",
       "      <td>60394377</td>\n",
       "      <td>1993-05-05</td>\n",
       "      <td>2017-07-10</td>\n",
       "      <td>Active</td>\n",
       "      <td>Graduate</td>\n",
       "      <td>27</td>\n",
       "      <td>1141</td>\n",
       "      <td>0.78</td>\n",
       "      <td>29</td>\n",
       "      <td>1333</td>\n",
       "      <td>1</td>\n",
       "      <td>0.72</td>\n",
       "      <td>8</td>\n",
       "      <td>0.95</td>\n",
       "      <td>1</td>\n",
       "      <td>850</td>\n",
       "      <td>0</td>\n",
       "    </tr>\n",
       "    <tr>\n",
       "      <th>5</th>\n",
       "      <td>2020-08-24</td>\n",
       "      <td>2020-08-25</td>\n",
       "      <td>32</td>\n",
       "      <td>Female</td>\n",
       "      <td>Divorced</td>\n",
       "      <td>1</td>\n",
       "      <td>No</td>\n",
       "      <td>No</td>\n",
       "      <td>Post Graduate</td>\n",
       "      <td>Teacher</td>\n",
       "      <td>8</td>\n",
       "      <td>20434</td>\n",
       "      <td>78160</td>\n",
       "      <td>Wilson County</td>\n",
       "      <td>TX</td>\n",
       "      <td>0</td>\n",
       "      <td>1</td>\n",
       "      <td>1</td>\n",
       "      <td>0</td>\n",
       "      <td>20</td>\n",
       "      <td>Annually</td>\n",
       "      <td>730</td>\n",
       "      <td>879549</td>\n",
       "      <td>60491531</td>\n",
       "      <td>1967-12-05</td>\n",
       "      <td>2020-03-20</td>\n",
       "      <td>Active</td>\n",
       "      <td>Graduate</td>\n",
       "      <td>53</td>\n",
       "      <td>157</td>\n",
       "      <td>0.89</td>\n",
       "      <td>44</td>\n",
       "      <td>652</td>\n",
       "      <td>0</td>\n",
       "      <td>0.00</td>\n",
       "      <td>8</td>\n",
       "      <td>0.89</td>\n",
       "      <td>0</td>\n",
       "      <td>745</td>\n",
       "      <td>1</td>\n",
       "    </tr>\n",
       "    <tr>\n",
       "      <th>6</th>\n",
       "      <td>2020-08-24</td>\n",
       "      <td>2020-08-29</td>\n",
       "      <td>27</td>\n",
       "      <td>Male</td>\n",
       "      <td>Single</td>\n",
       "      <td>1</td>\n",
       "      <td>Yes</td>\n",
       "      <td>Yes</td>\n",
       "      <td>Graduate</td>\n",
       "      <td>Accountant</td>\n",
       "      <td>6</td>\n",
       "      <td>65000</td>\n",
       "      <td>15938</td>\n",
       "      <td>Cambria County</td>\n",
       "      <td>PA</td>\n",
       "      <td>0</td>\n",
       "      <td>1</td>\n",
       "      <td>0</td>\n",
       "      <td>0</td>\n",
       "      <td>20</td>\n",
       "      <td>Annually</td>\n",
       "      <td>941</td>\n",
       "      <td>862056</td>\n",
       "      <td>60408239</td>\n",
       "      <td>1986-06-05</td>\n",
       "      <td>2017-11-30</td>\n",
       "      <td>Active</td>\n",
       "      <td>Graduate</td>\n",
       "      <td>34</td>\n",
       "      <td>998</td>\n",
       "      <td>0.75</td>\n",
       "      <td>26</td>\n",
       "      <td>1890</td>\n",
       "      <td>0</td>\n",
       "      <td>0.00</td>\n",
       "      <td>8</td>\n",
       "      <td>0.83</td>\n",
       "      <td>0</td>\n",
       "      <td>720</td>\n",
       "      <td>1</td>\n",
       "    </tr>\n",
       "    <tr>\n",
       "      <th>7</th>\n",
       "      <td>2020-08-24</td>\n",
       "      <td>2020-08-24</td>\n",
       "      <td>39</td>\n",
       "      <td>Male</td>\n",
       "      <td>Married</td>\n",
       "      <td>1</td>\n",
       "      <td>No</td>\n",
       "      <td>No</td>\n",
       "      <td>High School</td>\n",
       "      <td>Govt Service</td>\n",
       "      <td>21</td>\n",
       "      <td>116539</td>\n",
       "      <td>28707</td>\n",
       "      <td>Jackson County</td>\n",
       "      <td>NC</td>\n",
       "      <td>0</td>\n",
       "      <td>3</td>\n",
       "      <td>0</td>\n",
       "      <td>1</td>\n",
       "      <td>10</td>\n",
       "      <td>Annually</td>\n",
       "      <td>331</td>\n",
       "      <td>529537</td>\n",
       "      <td>60476244</td>\n",
       "      <td>1984-11-03</td>\n",
       "      <td>2019-10-22</td>\n",
       "      <td>Active</td>\n",
       "      <td>Lt High School</td>\n",
       "      <td>36</td>\n",
       "      <td>307</td>\n",
       "      <td>0.81</td>\n",
       "      <td>45</td>\n",
       "      <td>926</td>\n",
       "      <td>0</td>\n",
       "      <td>0.00</td>\n",
       "      <td>13</td>\n",
       "      <td>0.92</td>\n",
       "      <td>0</td>\n",
       "      <td>686</td>\n",
       "      <td>0</td>\n",
       "    </tr>\n",
       "    <tr>\n",
       "      <th>8</th>\n",
       "      <td>2020-08-24</td>\n",
       "      <td>2020-09-30</td>\n",
       "      <td>39</td>\n",
       "      <td>Female</td>\n",
       "      <td>Widowed</td>\n",
       "      <td>1</td>\n",
       "      <td>Yes</td>\n",
       "      <td>Yes</td>\n",
       "      <td>Graduate</td>\n",
       "      <td>Shop Owner</td>\n",
       "      <td>18</td>\n",
       "      <td>56924</td>\n",
       "      <td>60129</td>\n",
       "      <td>DeKalb County</td>\n",
       "      <td>IL</td>\n",
       "      <td>0</td>\n",
       "      <td>1</td>\n",
       "      <td>0</td>\n",
       "      <td>1</td>\n",
       "      <td>15</td>\n",
       "      <td>Monthly</td>\n",
       "      <td>566</td>\n",
       "      <td>501114</td>\n",
       "      <td>60237645</td>\n",
       "      <td>NaT</td>\n",
       "      <td>2012-08-23</td>\n",
       "      <td>Active</td>\n",
       "      <td>High School</td>\n",
       "      <td>36</td>\n",
       "      <td>2923</td>\n",
       "      <td>0.98</td>\n",
       "      <td>60</td>\n",
       "      <td>1119</td>\n",
       "      <td>0</td>\n",
       "      <td>0.00</td>\n",
       "      <td>8</td>\n",
       "      <td>0.95</td>\n",
       "      <td>0</td>\n",
       "      <td>838</td>\n",
       "      <td>0</td>\n",
       "    </tr>\n",
       "    <tr>\n",
       "      <th>9</th>\n",
       "      <td>2020-08-24</td>\n",
       "      <td>2020-08-26</td>\n",
       "      <td>28</td>\n",
       "      <td>Male</td>\n",
       "      <td>Married</td>\n",
       "      <td>1</td>\n",
       "      <td>No</td>\n",
       "      <td>No</td>\n",
       "      <td>Graduate</td>\n",
       "      <td>IT Service</td>\n",
       "      <td>7</td>\n",
       "      <td>64762</td>\n",
       "      <td>33759</td>\n",
       "      <td>Pinellas County</td>\n",
       "      <td>FL</td>\n",
       "      <td>0</td>\n",
       "      <td>3</td>\n",
       "      <td>0</td>\n",
       "      <td>0</td>\n",
       "      <td>25</td>\n",
       "      <td>Annually</td>\n",
       "      <td>477</td>\n",
       "      <td>465743</td>\n",
       "      <td>60221480</td>\n",
       "      <td>1964-10-26</td>\n",
       "      <td>2011-10-13</td>\n",
       "      <td>Active</td>\n",
       "      <td>Lt High School</td>\n",
       "      <td>56</td>\n",
       "      <td>3238</td>\n",
       "      <td>0.70</td>\n",
       "      <td>40</td>\n",
       "      <td>842</td>\n",
       "      <td>0</td>\n",
       "      <td>0.00</td>\n",
       "      <td>27</td>\n",
       "      <td>0.88</td>\n",
       "      <td>1</td>\n",
       "      <td>773</td>\n",
       "      <td>0</td>\n",
       "    </tr>\n",
       "    <tr>\n",
       "      <th>10</th>\n",
       "      <td>2020-09-29</td>\n",
       "      <td>2020-09-30</td>\n",
       "      <td>28</td>\n",
       "      <td>Male</td>\n",
       "      <td>Single</td>\n",
       "      <td>1</td>\n",
       "      <td>No</td>\n",
       "      <td>No</td>\n",
       "      <td>Graduate</td>\n",
       "      <td>Shop Owner</td>\n",
       "      <td>7</td>\n",
       "      <td>50000</td>\n",
       "      <td>52211</td>\n",
       "      <td>Poweshiek County</td>\n",
       "      <td>IA</td>\n",
       "      <td>0</td>\n",
       "      <td>1</td>\n",
       "      <td>0</td>\n",
       "      <td>0</td>\n",
       "      <td>10</td>\n",
       "      <td>Quaterly</td>\n",
       "      <td>163</td>\n",
       "      <td>482589</td>\n",
       "      <td>60410983</td>\n",
       "      <td>1983-03-01</td>\n",
       "      <td>2017-12-27</td>\n",
       "      <td>Active</td>\n",
       "      <td>High School</td>\n",
       "      <td>38</td>\n",
       "      <td>1007</td>\n",
       "      <td>0.72</td>\n",
       "      <td>43</td>\n",
       "      <td>637</td>\n",
       "      <td>0</td>\n",
       "      <td>0.00</td>\n",
       "      <td>7</td>\n",
       "      <td>0.97</td>\n",
       "      <td>1</td>\n",
       "      <td>796</td>\n",
       "      <td>1</td>\n",
       "    </tr>\n",
       "  </tbody>\n",
       "</table>\n",
       "</div>"
      ],
      "text/plain": [
       "              proposal_received_date policy_issue_date  owner_age  \\\n",
       "policy_number                                                       \n",
       "1                         2020-09-08        2020-09-08         22   \n",
       "2                         2020-08-24        2020-08-26         33   \n",
       "3                         2020-08-24        2020-08-24         29   \n",
       "4                         2020-08-24        2020-08-24         57   \n",
       "5                         2020-08-24        2020-08-25         32   \n",
       "6                         2020-08-24        2020-08-29         27   \n",
       "7                         2020-08-24        2020-08-24         39   \n",
       "8                         2020-08-24        2020-09-30         39   \n",
       "9                         2020-08-24        2020-08-26         28   \n",
       "10                        2020-09-29        2020-09-30         28   \n",
       "\n",
       "              owner_gender marital_status  num_nominee smoker medical  \\\n",
       "policy_number                                                           \n",
       "1                   Female         Single            1     No      No   \n",
       "2                   Female         Single            1     No      No   \n",
       "3                   Female        Married            1     No      No   \n",
       "4                     Male       Divorced            1     No     Yes   \n",
       "5                   Female       Divorced            1     No      No   \n",
       "6                     Male         Single            1    Yes     Yes   \n",
       "7                     Male        Married            1     No      No   \n",
       "8                   Female        Widowed            1    Yes     Yes   \n",
       "9                     Male        Married            1     No      No   \n",
       "10                    Male         Single            1     No      No   \n",
       "\n",
       "                    education     occupation  experience  income zipcode  \\\n",
       "policy_number                                                              \n",
       "1                    Graduate          Sales           1   50000   19111   \n",
       "2                 High School      Housewife           0       0    7764   \n",
       "3              Lt High School  Other Service          13  100000   26335   \n",
       "4                    Graduate       Military          36  242286   98241   \n",
       "5               Post Graduate        Teacher           8   20434   78160   \n",
       "6                    Graduate     Accountant           6   65000   15938   \n",
       "7                 High School   Govt Service          21  116539   28707   \n",
       "8                    Graduate     Shop Owner          18   56924   60129   \n",
       "9                    Graduate     IT Service           7   64762   33759   \n",
       "10                   Graduate     Shop Owner           7   50000   52211   \n",
       "\n",
       "                            county state  negative_zipcode  family_member  \\\n",
       "policy_number                                                               \n",
       "1              Philadelphia County    PA                 0              1   \n",
       "2                  Monmouth County    NJ                 0              1   \n",
       "3                   Braxton County    WV                 0              2   \n",
       "4                    Skagit County    WA                 0              3   \n",
       "5                    Wilson County    TX                 0              1   \n",
       "6                   Cambria County    PA                 0              1   \n",
       "7                   Jackson County    NC                 0              3   \n",
       "8                    DeKalb County    IL                 0              1   \n",
       "9                  Pinellas County    FL                 0              3   \n",
       "10                Poweshiek County    IA                 0              1   \n",
       "\n",
       "               existing_num_policy  has_critical_health_history  policy_term  \\\n",
       "policy_number                                                                  \n",
       "1                                0                            0           25   \n",
       "2                                0                            0           20   \n",
       "3                                1                            0           10   \n",
       "4                                0                            0           15   \n",
       "5                                1                            0           20   \n",
       "6                                0                            0           20   \n",
       "7                                0                            1           10   \n",
       "8                                0                            1           15   \n",
       "9                                0                            0           25   \n",
       "10                               0                            0           10   \n",
       "\n",
       "              payment_freq  annual_premium  sum_insured agent_code  agent_dob  \\\n",
       "policy_number                                                                   \n",
       "1                 Annually             377       580019   60503862 1997-07-03   \n",
       "2                 Quaterly             671       829002   60422713 1980-03-28   \n",
       "3                 Annually             210       659027   60450939 1978-06-25   \n",
       "4                 Annually            1863       612890   60394377 1993-05-05   \n",
       "5                 Annually             730       879549   60491531 1967-12-05   \n",
       "6                 Annually             941       862056   60408239 1986-06-05   \n",
       "7                 Annually             331       529537   60476244 1984-11-03   \n",
       "8                  Monthly             566       501114   60237645        NaT   \n",
       "9                 Annually             477       465743   60221480 1964-10-26   \n",
       "10                Quaterly             163       482589   60410983 1983-03-01   \n",
       "\n",
       "               agent_doj agent_status agent_education  agent_age  \\\n",
       "policy_number                                                      \n",
       "1             2020-08-31       Active        Graduate         23   \n",
       "2             2018-05-17       Active     High School         40   \n",
       "3             2019-02-25     Inactive    Some College         42   \n",
       "4             2017-07-10       Active        Graduate         27   \n",
       "5             2020-03-20       Active        Graduate         53   \n",
       "6             2017-11-30       Active        Graduate         34   \n",
       "7             2019-10-22       Active  Lt High School         36   \n",
       "8             2012-08-23       Active     High School         36   \n",
       "9             2011-10-13       Active  Lt High School         56   \n",
       "10            2017-12-27       Active     High School         38   \n",
       "\n",
       "               agent_tenure_days  agent_persistency  last_6_month_submissions  \\\n",
       "policy_number                                                                   \n",
       "1                              8               0.76                        35   \n",
       "2                            830               0.87                        54   \n",
       "3                            546               0.93                         0   \n",
       "4                           1141               0.78                        29   \n",
       "5                            157               0.89                        44   \n",
       "6                            998               0.75                        26   \n",
       "7                            307               0.81                        45   \n",
       "8                           2923               0.98                        60   \n",
       "9                           3238               0.70                        40   \n",
       "10                          1007               0.72                        43   \n",
       "\n",
       "               average_premium  is_reinstated  prev_persistency  \\\n",
       "policy_number                                                     \n",
       "1                          377              1              0.67   \n",
       "2                          671              0              0.00   \n",
       "3                          579              0              0.00   \n",
       "4                         1333              1              0.72   \n",
       "5                          652              0              0.00   \n",
       "6                         1890              0              0.00   \n",
       "7                          926              0              0.00   \n",
       "8                         1119              0              0.00   \n",
       "9                          842              0              0.00   \n",
       "10                         637              0              0.00   \n",
       "\n",
       "               num_complaints  target_completion_perc  \\\n",
       "policy_number                                           \n",
       "1                           1                    0.98   \n",
       "2                           4                    0.90   \n",
       "3                           8                    0.93   \n",
       "4                           8                    0.95   \n",
       "5                           8                    0.89   \n",
       "6                           8                    0.83   \n",
       "7                          13                    0.92   \n",
       "8                           8                    0.95   \n",
       "9                          27                    0.88   \n",
       "10                          7                    0.97   \n",
       "\n",
       "               has_contacted_in_last_6_months  credit_score  lapse  \n",
       "policy_number                                                       \n",
       "1                                           1           762      0  \n",
       "2                                           1           794      0  \n",
       "3                                           1           800      0  \n",
       "4                                           1           850      0  \n",
       "5                                           0           745      1  \n",
       "6                                           0           720      1  \n",
       "7                                           0           686      0  \n",
       "8                                           0           838      0  \n",
       "9                                           1           773      0  \n",
       "10                                          1           796      1  "
      ]
     },
     "execution_count": 9,
     "metadata": {},
     "output_type": "execute_result"
    }
   ],
   "source": [
    "input_df = load_data(INPUT_FILEPATH, INPUT_FILENAME)\n",
    "input_df.head(10)"
   ]
  },
  {
   "cell_type": "markdown",
   "metadata": {},
   "source": [
    "#### Checking data info"
   ]
  },
  {
   "cell_type": "code",
   "execution_count": 10,
   "metadata": {},
   "outputs": [
    {
     "name": "stdout",
     "output_type": "stream",
     "text": [
      "<class 'pandas.core.frame.DataFrame'>\n",
      "Int64Index: 44948 entries, 1 to 44948\n",
      "Data columns (total 40 columns):\n",
      " #   Column                          Non-Null Count  Dtype         \n",
      "---  ------                          --------------  -----         \n",
      " 0   proposal_received_date          44948 non-null  datetime64[ns]\n",
      " 1   policy_issue_date               44948 non-null  datetime64[ns]\n",
      " 2   owner_age                       44948 non-null  int64         \n",
      " 3   owner_gender                    44948 non-null  object        \n",
      " 4   marital_status                  44948 non-null  object        \n",
      " 5   num_nominee                     44948 non-null  int64         \n",
      " 6   smoker                          44948 non-null  object        \n",
      " 7   medical                         44948 non-null  object        \n",
      " 8   education                       44948 non-null  object        \n",
      " 9   occupation                      44948 non-null  object        \n",
      " 10  experience                      44948 non-null  int64         \n",
      " 11  income                          44948 non-null  int64         \n",
      " 12  zipcode                         44948 non-null  object        \n",
      " 13  county                          44948 non-null  object        \n",
      " 14  state                           44948 non-null  object        \n",
      " 15  negative_zipcode                44948 non-null  int64         \n",
      " 16  family_member                   44948 non-null  int64         \n",
      " 17  existing_num_policy             44948 non-null  int64         \n",
      " 18  has_critical_health_history     44948 non-null  int64         \n",
      " 19  policy_term                     44948 non-null  int64         \n",
      " 20  payment_freq                    44948 non-null  object        \n",
      " 21  annual_premium                  44948 non-null  int64         \n",
      " 22  sum_insured                     44948 non-null  int64         \n",
      " 23  agent_code                      44948 non-null  object        \n",
      " 24  agent_dob                       35994 non-null  datetime64[ns]\n",
      " 25  agent_doj                       44948 non-null  datetime64[ns]\n",
      " 26  agent_status                    44948 non-null  object        \n",
      " 27  agent_education                 44948 non-null  object        \n",
      " 28  agent_age                       44948 non-null  int64         \n",
      " 29  agent_tenure_days               44948 non-null  int64         \n",
      " 30  agent_persistency               44831 non-null  float64       \n",
      " 31  last_6_month_submissions        44948 non-null  int64         \n",
      " 32  average_premium                 44948 non-null  int64         \n",
      " 33  is_reinstated                   44948 non-null  int64         \n",
      " 34  prev_persistency                44948 non-null  float64       \n",
      " 35  num_complaints                  44948 non-null  int64         \n",
      " 36  target_completion_perc          44948 non-null  float64       \n",
      " 37  has_contacted_in_last_6_months  44948 non-null  int64         \n",
      " 38  credit_score                    44948 non-null  int64         \n",
      " 39  lapse                           44948 non-null  int64         \n",
      "dtypes: datetime64[ns](4), float64(3), int64(20), object(13)\n",
      "memory usage: 14.1+ MB\n"
     ]
    }
   ],
   "source": [
    "input_df.info()"
   ]
  },
  {
   "cell_type": "code",
   "execution_count": 11,
   "metadata": {},
   "outputs": [
    {
     "data": {
      "text/plain": [
       "Index(['proposal_received_date', 'policy_issue_date', 'owner_age',\n",
       "       'owner_gender', 'marital_status', 'num_nominee', 'smoker', 'medical',\n",
       "       'education', 'occupation', 'experience', 'income', 'zipcode', 'county',\n",
       "       'state', 'negative_zipcode', 'family_member', 'existing_num_policy',\n",
       "       'has_critical_health_history', 'policy_term', 'payment_freq',\n",
       "       'annual_premium', 'sum_insured', 'agent_code', 'agent_dob', 'agent_doj',\n",
       "       'agent_status', 'agent_education', 'agent_age', 'agent_tenure_days',\n",
       "       'agent_persistency', 'last_6_month_submissions', 'average_premium',\n",
       "       'is_reinstated', 'prev_persistency', 'num_complaints',\n",
       "       'target_completion_perc', 'has_contacted_in_last_6_months',\n",
       "       'credit_score', 'lapse'],\n",
       "      dtype='object')"
      ]
     },
     "execution_count": 11,
     "metadata": {},
     "output_type": "execute_result"
    }
   ],
   "source": [
    "input_df.columns"
   ]
  },
  {
   "cell_type": "markdown",
   "metadata": {},
   "source": [
    "#### Target variable distribution"
   ]
  },
  {
   "cell_type": "code",
   "execution_count": 12,
   "metadata": {},
   "outputs": [
    {
     "data": {
      "text/plain": [
       "0    64.683634\n",
       "1    35.316366\n",
       "Name: lapse, dtype: float64"
      ]
     },
     "execution_count": 12,
     "metadata": {},
     "output_type": "execute_result"
    }
   ],
   "source": [
    "input_df['lapse'].value_counts()/len(input_df)*100"
   ]
  },
  {
   "cell_type": "markdown",
   "metadata": {},
   "source": [
    "#### Creating feature: time_to_issue"
   ]
  },
  {
   "cell_type": "code",
   "execution_count": 13,
   "metadata": {},
   "outputs": [],
   "source": [
    "def create_time_to_issue(df) -> pd.DataFrame:\n",
    "    df['time_to_issue'] = (df['policy_issue_date'] - df['proposal_received_date']).dt.days\n",
    "\n",
    "    return df"
   ]
  },
  {
   "cell_type": "code",
   "execution_count": 14,
   "metadata": {},
   "outputs": [
    {
     "data": {
      "text/plain": [
       "count    44948.000000\n",
       "mean         5.640451\n",
       "std         11.153843\n",
       "min          0.000000\n",
       "25%          0.000000\n",
       "50%          1.000000\n",
       "75%          7.000000\n",
       "max        494.000000\n",
       "Name: time_to_issue, dtype: float64"
      ]
     },
     "execution_count": 14,
     "metadata": {},
     "output_type": "execute_result"
    }
   ],
   "source": [
    "input_df = create_time_to_issue(input_df)\n",
    "input_df['time_to_issue'].describe()"
   ]
  },
  {
   "cell_type": "markdown",
   "metadata": {},
   "source": [
    "#### Creating feature: prem_to_income_ratio"
   ]
  },
  {
   "cell_type": "code",
   "execution_count": 15,
   "metadata": {},
   "outputs": [],
   "source": [
    "def create_prem_to_income_ratio(df) -> pd.DataFrame:\n",
    "    df['prem_to_income_ratio'] = np.where(df['income'] == 0, 0, (df['annual_premium']/df['income']))\n",
    "\n",
    "    return df"
   ]
  },
  {
   "cell_type": "code",
   "execution_count": 16,
   "metadata": {},
   "outputs": [
    {
     "data": {
      "text/plain": [
       "count    44948.000000\n",
       "mean         0.016824\n",
       "std          0.025457\n",
       "min          0.000000\n",
       "25%          0.004170\n",
       "50%          0.008553\n",
       "75%          0.017717\n",
       "max          0.200000\n",
       "Name: prem_to_income_ratio, dtype: float64"
      ]
     },
     "execution_count": 16,
     "metadata": {},
     "output_type": "execute_result"
    }
   ],
   "source": [
    "input_df = create_prem_to_income_ratio(input_df)\n",
    "input_df['prem_to_income_ratio'].describe()"
   ]
  },
  {
   "cell_type": "markdown",
   "metadata": {},
   "source": [
    "## --------------------------------------------------------------------------------------------------------------------------------\n",
    "\n",
    "The objective of this exercise is to create a demoable solution (maybe not the best possible one, given the augmented data). Hence, we are not going to deep dive into EDA and hypothesis testing. Instead, we will focus on building the ML product using different technologies. \n",
    "\n",
    "## --------------------------------------------------------------------------------------------------------------------------------"
   ]
  },
  {
   "cell_type": "markdown",
   "metadata": {},
   "source": [
    "#### Columns to remove"
   ]
  },
  {
   "cell_type": "code",
   "execution_count": 17,
   "metadata": {},
   "outputs": [],
   "source": [
    "COLS_TO_REM = ['proposal_received_date','policy_issue_date', 'zipcode', 'county', 'state', 'agent_code', 'agent_dob', 'agent_doj']"
   ]
  },
  {
   "cell_type": "markdown",
   "metadata": {},
   "source": [
    "- `proposal_received_date`: Derived `time_to_issue` from this column\n",
    "- `policy_issue_date`: Derived `time_to_issue` from this column\n",
    "- `zipcode`: Too many values, high cardinality\n",
    "- `county`: Too many values, high cardinality\n",
    "- `state`: Too many values, high cardinality\n",
    "- `agent_code`: Id column\n",
    "- `agent_dob`: Derived `agent_age` from this column\n",
    "- `agent_doj`: Derived `agent_tenure_days` from this column"
   ]
  },
  {
   "cell_type": "code",
   "execution_count": 18,
   "metadata": {},
   "outputs": [],
   "source": [
    "def filter_df(df, COLS_TO_REM) -> pd.DataFrame:\n",
    "    df = df.drop(COLS_TO_REM, axis = 1)\n",
    "    return df"
   ]
  },
  {
   "cell_type": "code",
   "execution_count": 19,
   "metadata": {},
   "outputs": [
    {
     "data": {
      "text/plain": [
       "(44948, 34)"
      ]
     },
     "execution_count": 19,
     "metadata": {},
     "output_type": "execute_result"
    }
   ],
   "source": [
    "temp_df = filter_df(input_df, COLS_TO_REM)\n",
    "temp_df.shape"
   ]
  },
  {
   "cell_type": "code",
   "execution_count": 20,
   "metadata": {},
   "outputs": [
    {
     "data": {
      "text/plain": [
       "(44948, 42)"
      ]
     },
     "execution_count": 20,
     "metadata": {},
     "output_type": "execute_result"
    }
   ],
   "source": [
    "input_df.shape"
   ]
  },
  {
   "cell_type": "markdown",
   "metadata": {},
   "source": [
    "## Feature Engineering Steps"
   ]
  },
  {
   "cell_type": "markdown",
   "metadata": {},
   "source": [
    "#### Missing Value Imputation"
   ]
  },
  {
   "cell_type": "markdown",
   "metadata": {},
   "source": [
    "We have only one column where missing value is present. `agent_persistency`. Impute missing value with median"
   ]
  },
  {
   "cell_type": "code",
   "execution_count": 21,
   "metadata": {},
   "outputs": [
    {
     "name": "stdout",
     "output_type": "stream",
     "text": [
      "Total missing percentage of column agent_persistency is: 0.26% \n"
     ]
    }
   ],
   "source": [
    "agent_persistency_missing_perc = round(temp_df['agent_persistency'].isnull().mean()*100,2)\n",
    "\n",
    "print(f'Total missing percentage of column agent_persistency is: {agent_persistency_missing_perc}% ')"
   ]
  },
  {
   "cell_type": "code",
   "execution_count": 22,
   "metadata": {},
   "outputs": [],
   "source": [
    "MISSING_COL = ['agent_persistency']"
   ]
  },
  {
   "cell_type": "markdown",
   "metadata": {},
   "source": [
    "#### One-Hot Encoding"
   ]
  },
  {
   "cell_type": "code",
   "execution_count": 23,
   "metadata": {},
   "outputs": [],
   "source": [
    "ONE_HOT_COLS = ['owner_gender', 'marital_status', 'smoker', 'medical', 'education', 'occupation', 'payment_freq',  \n",
    "                'agent_status', 'agent_education']"
   ]
  },
  {
   "cell_type": "markdown",
   "metadata": {},
   "source": [
    "#### Normalisation\n",
    "\n",
    "We will normalise the columns using `StandardScaler` because we have values at different scale"
   ]
  },
  {
   "cell_type": "markdown",
   "metadata": {},
   "source": [
    "#### Creating train test split"
   ]
  },
  {
   "cell_type": "code",
   "execution_count": 24,
   "metadata": {},
   "outputs": [
    {
     "data": {
      "text/plain": [
       "Index(['owner_age', 'owner_gender', 'marital_status', 'num_nominee', 'smoker',\n",
       "       'medical', 'education', 'occupation', 'experience', 'income',\n",
       "       'negative_zipcode', 'family_member', 'existing_num_policy',\n",
       "       'has_critical_health_history', 'policy_term', 'payment_freq',\n",
       "       'annual_premium', 'sum_insured', 'agent_status', 'agent_education',\n",
       "       'agent_age', 'agent_tenure_days', 'agent_persistency',\n",
       "       'last_6_month_submissions', 'average_premium', 'is_reinstated',\n",
       "       'prev_persistency', 'num_complaints', 'target_completion_perc',\n",
       "       'has_contacted_in_last_6_months', 'credit_score', 'lapse',\n",
       "       'time_to_issue', 'prem_to_income_ratio'],\n",
       "      dtype='object')"
      ]
     },
     "execution_count": 24,
     "metadata": {},
     "output_type": "execute_result"
    }
   ],
   "source": [
    "temp_df.columns"
   ]
  },
  {
   "cell_type": "code",
   "execution_count": 25,
   "metadata": {},
   "outputs": [],
   "source": [
    "FEATURES = ['owner_age', 'owner_gender', 'marital_status', 'num_nominee', 'smoker',\n",
    "       'medical', 'education', 'occupation', 'experience', 'income',\n",
    "       'negative_zipcode', 'family_member', 'existing_num_policy',\n",
    "       'has_critical_health_history', 'policy_term', 'payment_freq',\n",
    "       'annual_premium', 'sum_insured', 'agent_status', 'agent_education',\n",
    "       'agent_age', 'agent_tenure_days', 'agent_persistency',\n",
    "       'last_6_month_submissions', 'average_premium', 'is_reinstated',\n",
    "       'prev_persistency', 'num_complaints', 'target_completion_perc',\n",
    "       'has_contacted_in_last_6_months', 'credit_score',\n",
    "       'time_to_issue', 'prem_to_income_ratio']\n",
    "\n",
    "TARGET = 'lapse'"
   ]
  },
  {
   "cell_type": "code",
   "execution_count": 26,
   "metadata": {},
   "outputs": [
    {
     "data": {
      "text/plain": [
       "((31463, 33), (13485, 33))"
      ]
     },
     "execution_count": 26,
     "metadata": {},
     "output_type": "execute_result"
    }
   ],
   "source": [
    "X_train, X_test, y_train, y_test = train_test_split(temp_df[FEATURES],\n",
    "                                                    temp_df[TARGET],\n",
    "                                                    test_size=0.3,\n",
    "                                                    random_state = 786, \n",
    "                                                    shuffle = True,\n",
    "                                                    stratify = temp_df[TARGET])\n",
    "\n",
    "X_train.shape, X_test.shape"
   ]
  },
  {
   "attachments": {},
   "cell_type": "markdown",
   "metadata": {},
   "source": [
    "### Creating data transformation pipeline"
   ]
  },
  {
   "cell_type": "code",
   "execution_count": 27,
   "metadata": {},
   "outputs": [],
   "source": [
    "model_input_pipe = Pipeline([\n",
    "    \n",
    "    ('imputer_num', mdi.MeanMedianImputer(imputation_method = 'median', variables = MISSING_COL )), \n",
    "    \n",
    "    ('onehot_encoder', ce.OneHotEncoder(top_categories=None,\n",
    "                                        variables= ONE_HOT_COLS,\n",
    "                                        drop_last=True)),\n",
    "    \n",
    "    ('normalisation', StandardScaler())\n",
    "    \n",
    "    # ('clf', LogisticRegression(penalty,random_state = 786))\n",
    "])"
   ]
  },
  {
   "cell_type": "code",
   "execution_count": 28,
   "metadata": {},
   "outputs": [],
   "source": [
    "X_train_trf = model_input_pipe.fit_transform(X_train)"
   ]
  },
  {
   "cell_type": "code",
   "execution_count": 29,
   "metadata": {},
   "outputs": [
    {
     "data": {
      "text/plain": [
       "array([[-1.22108034, -0.34520809, -1.17977624, ...,  1.69917639,\n",
       "        -0.40369587, -0.56938593],\n",
       "       [ 0.50356978, -0.34520809,  0.25459205, ..., -0.58852042,\n",
       "         2.47711229, -0.56938593],\n",
       "       [ 0.77588296, -0.34520809,  1.06142421, ...,  1.69917639,\n",
       "        -0.40369587, -0.56938593],\n",
       "       ...,\n",
       "       [-1.22108034, -0.34520809, -0.73153615, ..., -0.58852042,\n",
       "        -0.40369587,  1.75627803],\n",
       "       [-0.58568293, -0.34520809, -0.55224011, ..., -0.58852042,\n",
       "        -0.40369587, -0.56938593],\n",
       "       [ 0.14048555,  1.59708127,  0.16494403, ..., -0.58852042,\n",
       "        -0.40369587,  1.75627803]])"
      ]
     },
     "execution_count": 29,
     "metadata": {},
     "output_type": "execute_result"
    }
   ],
   "source": [
    "X_train_trf"
   ]
  },
  {
   "cell_type": "code",
   "execution_count": 30,
   "metadata": {},
   "outputs": [],
   "source": [
    "X_test_trf = model_input_pipe.transform(X_test)"
   ]
  },
  {
   "attachments": {},
   "cell_type": "markdown",
   "metadata": {},
   "source": [
    "### Running xgboost with hyperopt and tracking using mlflow"
   ]
  },
  {
   "cell_type": "code",
   "execution_count": 32,
   "metadata": {},
   "outputs": [],
   "source": [
    "def objective(params):\n",
    "\n",
    "    with mlflow.start_run():\n",
    "        mlflow.set_tag(\"developer\", \"tanmoy\")\n",
    "        mlflow.set_tag(\"model\", \"randomforest hyperparam\")\n",
    "        mlflow.set_tag(\"type\", \"experiment\")\n",
    "\n",
    "        mlflow.log_params(params)\n",
    "\n",
    "        rf_model = RandomForestClassifier(**params)\n",
    "        rf_model.fit(X_train_trf, y_train)\n",
    "\n",
    "        \n",
    "        y_pred = rf_model.predict(X_test_trf).round()\n",
    "        \n",
    "        accuracy = accuracy_score(y_test, y_pred)\n",
    "        mlflow.log_metric(\"accuracy\", accuracy)\n",
    "\n",
    "        recall = recall_score(y_test, y_pred)\n",
    "        mlflow.log_metric(\"recall\", recall)\n",
    "\n",
    "        precision = precision_score(y_test, y_pred)\n",
    "        mlflow.log_metric(\"precision\", precision)\n",
    "\n",
    "        f1 = f1_score(y_test, y_pred)\n",
    "        mlflow.log_metric(\"f1_score\", f1)\n",
    "\n",
    "        roc_auc = roc_auc_score(y_test, y_pred)\n",
    "        mlflow.log_metric(\"roc_auc\", roc_auc)\n",
    "\n",
    "        return {\"loss\": -recall, 'status': STATUS_OK}                    "
   ]
  },
  {
   "cell_type": "code",
   "execution_count": 33,
   "metadata": {},
   "outputs": [
    {
     "name": "stdout",
     "output_type": "stream",
     "text": [
      "  2%|▏         | 1/50 [00:07<06:12,  7.61s/trial, best loss: -0.7725745485090298]"
     ]
    },
    {
     "name": "stderr",
     "output_type": "stream",
     "text": [
      "c:\\Users\\AJ786UD\\.virtualenvs\\Persistency-1bw1YpJo\\lib\\site-packages\\sklearn\\ensemble\\_forest.py:425: FutureWarning: `max_features='auto'` has been deprecated in 1.1 and will be removed in 1.3. To keep the past behaviour, explicitly set `max_features='sqrt'` or remove this parameter as it is also the default value for RandomForestClassifiers and ExtraTreesClassifiers.\n",
      "  warn(\n",
      "\n"
     ]
    },
    {
     "name": "stdout",
     "output_type": "stream",
     "text": [
      "  4%|▍         | 2/50 [00:27<11:40, 14.59s/trial, best loss: -0.8013439731205376]"
     ]
    },
    {
     "name": "stderr",
     "output_type": "stream",
     "text": [
      "c:\\Users\\AJ786UD\\.virtualenvs\\Persistency-1bw1YpJo\\lib\\site-packages\\sklearn\\ensemble\\_forest.py:425: FutureWarning: `max_features='auto'` has been deprecated in 1.1 and will be removed in 1.3. To keep the past behaviour, explicitly set `max_features='sqrt'` or remove this parameter as it is also the default value for RandomForestClassifiers and ExtraTreesClassifiers.\n",
      "  warn(\n",
      "\n"
     ]
    },
    {
     "name": "stdout",
     "output_type": "stream",
     "text": [
      "  8%|▊         | 4/50 [00:57<11:06, 14.48s/trial, best loss: -0.8013439731205376]"
     ]
    },
    {
     "name": "stderr",
     "output_type": "stream",
     "text": [
      "c:\\Users\\AJ786UD\\.virtualenvs\\Persistency-1bw1YpJo\\lib\\site-packages\\sklearn\\ensemble\\_forest.py:425: FutureWarning: `max_features='auto'` has been deprecated in 1.1 and will be removed in 1.3. To keep the past behaviour, explicitly set `max_features='sqrt'` or remove this parameter as it is also the default value for RandomForestClassifiers and ExtraTreesClassifiers.\n",
      "  warn(\n",
      "\n"
     ]
    },
    {
     "name": "stdout",
     "output_type": "stream",
     "text": [
      " 14%|█▍        | 7/50 [01:32<09:33, 13.34s/trial, best loss: -0.8013439731205376]"
     ]
    },
    {
     "name": "stderr",
     "output_type": "stream",
     "text": [
      "c:\\Users\\AJ786UD\\.virtualenvs\\Persistency-1bw1YpJo\\lib\\site-packages\\sklearn\\ensemble\\_forest.py:425: FutureWarning: `max_features='auto'` has been deprecated in 1.1 and will be removed in 1.3. To keep the past behaviour, explicitly set `max_features='sqrt'` or remove this parameter as it is also the default value for RandomForestClassifiers and ExtraTreesClassifiers.\n",
      "  warn(\n",
      "\n"
     ]
    },
    {
     "name": "stdout",
     "output_type": "stream",
     "text": [
      " 16%|█▌        | 8/50 [01:57<11:54, 17.00s/trial, best loss: -0.8059638807223856]"
     ]
    },
    {
     "name": "stderr",
     "output_type": "stream",
     "text": [
      "c:\\Users\\AJ786UD\\.virtualenvs\\Persistency-1bw1YpJo\\lib\\site-packages\\sklearn\\ensemble\\_forest.py:425: FutureWarning: `max_features='auto'` has been deprecated in 1.1 and will be removed in 1.3. To keep the past behaviour, explicitly set `max_features='sqrt'` or remove this parameter as it is also the default value for RandomForestClassifiers and ExtraTreesClassifiers.\n",
      "  warn(\n",
      "\n"
     ]
    },
    {
     "name": "stdout",
     "output_type": "stream",
     "text": [
      " 18%|█▊        | 9/50 [02:07<10:05, 14.77s/trial, best loss: -0.8059638807223856]"
     ]
    },
    {
     "name": "stderr",
     "output_type": "stream",
     "text": [
      "c:\\Users\\AJ786UD\\.virtualenvs\\Persistency-1bw1YpJo\\lib\\site-packages\\sklearn\\ensemble\\_forest.py:425: FutureWarning: `max_features='auto'` has been deprecated in 1.1 and will be removed in 1.3. To keep the past behaviour, explicitly set `max_features='sqrt'` or remove this parameter as it is also the default value for RandomForestClassifiers and ExtraTreesClassifiers.\n",
      "  warn(\n",
      "\n"
     ]
    },
    {
     "name": "stdout",
     "output_type": "stream",
     "text": [
      " 20%|██        | 10/50 [02:18<09:03, 13.58s/trial, best loss: -0.8059638807223856]"
     ]
    },
    {
     "name": "stderr",
     "output_type": "stream",
     "text": [
      "c:\\Users\\AJ786UD\\.virtualenvs\\Persistency-1bw1YpJo\\lib\\site-packages\\sklearn\\ensemble\\_forest.py:425: FutureWarning: `max_features='auto'` has been deprecated in 1.1 and will be removed in 1.3. To keep the past behaviour, explicitly set `max_features='sqrt'` or remove this parameter as it is also the default value for RandomForestClassifiers and ExtraTreesClassifiers.\n",
      "  warn(\n",
      "\n"
     ]
    },
    {
     "name": "stdout",
     "output_type": "stream",
     "text": [
      " 36%|███▌      | 18/50 [03:55<06:59, 13.12s/trial, best loss: -0.8059638807223856]"
     ]
    },
    {
     "name": "stderr",
     "output_type": "stream",
     "text": [
      "c:\\Users\\AJ786UD\\.virtualenvs\\Persistency-1bw1YpJo\\lib\\site-packages\\sklearn\\ensemble\\_forest.py:425: FutureWarning: `max_features='auto'` has been deprecated in 1.1 and will be removed in 1.3. To keep the past behaviour, explicitly set `max_features='sqrt'` or remove this parameter as it is also the default value for RandomForestClassifiers and ExtraTreesClassifiers.\n",
      "  warn(\n",
      "\n"
     ]
    },
    {
     "name": "stdout",
     "output_type": "stream",
     "text": [
      " 40%|████      | 20/50 [04:13<05:35, 11.18s/trial, best loss: -0.8059638807223856]"
     ]
    },
    {
     "name": "stderr",
     "output_type": "stream",
     "text": [
      "c:\\Users\\AJ786UD\\.virtualenvs\\Persistency-1bw1YpJo\\lib\\site-packages\\sklearn\\ensemble\\_forest.py:425: FutureWarning: `max_features='auto'` has been deprecated in 1.1 and will be removed in 1.3. To keep the past behaviour, explicitly set `max_features='sqrt'` or remove this parameter as it is also the default value for RandomForestClassifiers and ExtraTreesClassifiers.\n",
      "  warn(\n",
      "\n"
     ]
    },
    {
     "name": "stdout",
     "output_type": "stream",
     "text": [
      " 42%|████▏     | 21/50 [04:35<06:57, 14.40s/trial, best loss: -0.8059638807223856]"
     ]
    },
    {
     "name": "stderr",
     "output_type": "stream",
     "text": [
      "c:\\Users\\AJ786UD\\.virtualenvs\\Persistency-1bw1YpJo\\lib\\site-packages\\sklearn\\ensemble\\_forest.py:425: FutureWarning: `max_features='auto'` has been deprecated in 1.1 and will be removed in 1.3. To keep the past behaviour, explicitly set `max_features='sqrt'` or remove this parameter as it is also the default value for RandomForestClassifiers and ExtraTreesClassifiers.\n",
      "  warn(\n",
      "\n"
     ]
    },
    {
     "name": "stdout",
     "output_type": "stream",
     "text": [
      " 44%|████▍     | 22/50 [04:52<07:05, 15.20s/trial, best loss: -0.8065938681226376]"
     ]
    },
    {
     "name": "stderr",
     "output_type": "stream",
     "text": [
      "c:\\Users\\AJ786UD\\.virtualenvs\\Persistency-1bw1YpJo\\lib\\site-packages\\sklearn\\ensemble\\_forest.py:425: FutureWarning: `max_features='auto'` has been deprecated in 1.1 and will be removed in 1.3. To keep the past behaviour, explicitly set `max_features='sqrt'` or remove this parameter as it is also the default value for RandomForestClassifiers and ExtraTreesClassifiers.\n",
      "  warn(\n",
      "\n"
     ]
    },
    {
     "name": "stdout",
     "output_type": "stream",
     "text": [
      " 46%|████▌     | 23/50 [05:20<08:38, 19.21s/trial, best loss: -0.8065938681226376]"
     ]
    },
    {
     "name": "stderr",
     "output_type": "stream",
     "text": [
      "c:\\Users\\AJ786UD\\.virtualenvs\\Persistency-1bw1YpJo\\lib\\site-packages\\sklearn\\ensemble\\_forest.py:425: FutureWarning: `max_features='auto'` has been deprecated in 1.1 and will be removed in 1.3. To keep the past behaviour, explicitly set `max_features='sqrt'` or remove this parameter as it is also the default value for RandomForestClassifiers and ExtraTreesClassifiers.\n",
      "  warn(\n",
      "\n"
     ]
    },
    {
     "name": "stdout",
     "output_type": "stream",
     "text": [
      " 48%|████▊     | 24/50 [05:51<09:47, 22.59s/trial, best loss: -0.8065938681226376]"
     ]
    },
    {
     "name": "stderr",
     "output_type": "stream",
     "text": [
      "c:\\Users\\AJ786UD\\.virtualenvs\\Persistency-1bw1YpJo\\lib\\site-packages\\sklearn\\ensemble\\_forest.py:425: FutureWarning: `max_features='auto'` has been deprecated in 1.1 and will be removed in 1.3. To keep the past behaviour, explicitly set `max_features='sqrt'` or remove this parameter as it is also the default value for RandomForestClassifiers and ExtraTreesClassifiers.\n",
      "  warn(\n",
      "\n"
     ]
    },
    {
     "name": "stdout",
     "output_type": "stream",
     "text": [
      " 50%|█████     | 25/50 [06:03<08:05, 19.43s/trial, best loss: -0.8065938681226376]"
     ]
    },
    {
     "name": "stderr",
     "output_type": "stream",
     "text": [
      "c:\\Users\\AJ786UD\\.virtualenvs\\Persistency-1bw1YpJo\\lib\\site-packages\\sklearn\\ensemble\\_forest.py:425: FutureWarning: `max_features='auto'` has been deprecated in 1.1 and will be removed in 1.3. To keep the past behaviour, explicitly set `max_features='sqrt'` or remove this parameter as it is also the default value for RandomForestClassifiers and ExtraTreesClassifiers.\n",
      "  warn(\n",
      "\n"
     ]
    },
    {
     "name": "stdout",
     "output_type": "stream",
     "text": [
      " 52%|█████▏    | 26/50 [06:26<08:10, 20.43s/trial, best loss: -0.8082738345233096]"
     ]
    },
    {
     "name": "stderr",
     "output_type": "stream",
     "text": [
      "c:\\Users\\AJ786UD\\.virtualenvs\\Persistency-1bw1YpJo\\lib\\site-packages\\sklearn\\ensemble\\_forest.py:425: FutureWarning: `max_features='auto'` has been deprecated in 1.1 and will be removed in 1.3. To keep the past behaviour, explicitly set `max_features='sqrt'` or remove this parameter as it is also the default value for RandomForestClassifiers and ExtraTreesClassifiers.\n",
      "  warn(\n",
      "\n"
     ]
    },
    {
     "name": "stdout",
     "output_type": "stream",
     "text": [
      " 54%|█████▍    | 27/50 [06:44<07:34, 19.75s/trial, best loss: -0.8082738345233096]"
     ]
    },
    {
     "name": "stderr",
     "output_type": "stream",
     "text": [
      "c:\\Users\\AJ786UD\\.virtualenvs\\Persistency-1bw1YpJo\\lib\\site-packages\\sklearn\\ensemble\\_forest.py:425: FutureWarning: `max_features='auto'` has been deprecated in 1.1 and will be removed in 1.3. To keep the past behaviour, explicitly set `max_features='sqrt'` or remove this parameter as it is also the default value for RandomForestClassifiers and ExtraTreesClassifiers.\n",
      "  warn(\n",
      "\n"
     ]
    },
    {
     "name": "stdout",
     "output_type": "stream",
     "text": [
      "100%|██████████| 50/50 [13:58<00:00, 16.77s/trial, best loss: -0.8091138177236455]\n"
     ]
    }
   ],
   "source": [
    "search_space =  {\n",
    "        'max_depth': hp.choice('max_depth', range(3,20)),\n",
    "        'max_features': hp.choice('max_features', ['sqrt', 'auto', 'log2']),\n",
    "        'n_estimators': hp.choice('n_estimators', range(100,500)),\n",
    "        'criterion': hp.choice('criterion', [\"gini\", \"entropy\"]),\n",
    "        'min_samples_split': hp.choice('min_samples_split', range(2, 50)), \n",
    "        'random_state' : 786\n",
    "}\n",
    "\n",
    "best_result = fmin(\n",
    "\n",
    "    fn = objective,\n",
    "    space = search_space,\n",
    "    algo = tpe.suggest,\n",
    "    max_evals = 50,\n",
    "    trials = Trials()\n",
    ")"
   ]
  },
  {
   "attachments": {},
   "cell_type": "markdown",
   "metadata": {},
   "source": [
    "### Finalising model \n",
    "- Running with best model params (best model chosen in terms of highest recall)\n",
    "- Autologging along with customised metrics logging\n",
    "- storing prerocessor `model_input_pipe` as an artifact\n",
    "- storing model as an artifact"
   ]
  },
  {
   "cell_type": "code",
   "execution_count": 37,
   "metadata": {},
   "outputs": [],
   "source": [
    "best_params = {\n",
    "        'max_depth': 19,\n",
    "        'max_features': 'sqrt',\n",
    "        'n_estimators': 355,\n",
    "        'criterion': 'gini',\n",
    "        'min_samples_split': 3, \n",
    "        'random_state' : 786\n",
    "}\n",
    "\n",
    "with mlflow.start_run():\n",
    "    mlflow.sklearn.autolog()\n",
    "    mlflow.set_tag(\"developer\", \"tanmoy\")\n",
    "    mlflow.set_tag(\"model\", \"randomforest\")\n",
    "    mlflow.set_tag(\"type\", \"final\")\n",
    "\n",
    "    rforest = RandomForestClassifier(**best_params)\n",
    "    rforest.fit(X_train_trf, y_train)\n",
    "\n",
    "    y_pred = rforest.predict(X_test_trf).round()\n",
    "            \n",
    "    accuracy = accuracy_score(y_test, y_pred)\n",
    "    mlflow.log_metric(\"accuracy\", accuracy)\n",
    "\n",
    "    recall = recall_score(y_test, y_pred)\n",
    "    mlflow.log_metric(\"recall\", recall)\n",
    "\n",
    "    precision = precision_score(y_test, y_pred)\n",
    "    mlflow.log_metric(\"precision\", precision)\n",
    "\n",
    "    f1 = f1_score(y_test, y_pred)\n",
    "    mlflow.log_metric(\"f1_score\", f1)\n",
    "\n",
    "    roc_auc = roc_auc_score(y_test, y_pred)\n",
    "    mlflow.log_metric(\"roc_auc_score\", roc_auc)\n",
    "\n",
    "    with open(\"models/preprocessor.b\", \"wb\") as f_out:\n",
    "        pickle.dump(model_input_pipe, f_out)\n",
    "\n",
    "    mlflow.log_artifact(\"models/preprocessor.b\", artifact_path = \"preprocessor\")\n",
    "    mlflow.sklearn.log_model(rforest, artifact_path= \"model_mlflow\")\n",
    "\n",
    "mlflow.end_run()"
   ]
  },
  {
   "attachments": {},
   "cell_type": "markdown",
   "metadata": {},
   "source": [
    "#### Run Name: `bald-yak-543`\n",
    "#### Run Id: `0a64c24edd994328b2a0e2749272b48c`"
   ]
  },
  {
   "attachments": {},
   "cell_type": "markdown",
   "metadata": {},
   "source": [
    "#### Load model locally and make predictions"
   ]
  },
  {
   "cell_type": "code",
   "execution_count": 50,
   "metadata": {},
   "outputs": [
    {
     "name": "stdout",
     "output_type": "stream",
     "text": [
      "mlflow.pyfunc.loaded_model:\n",
      "  artifact_path: model_mlflow\n",
      "  flavor: mlflow.sklearn\n",
      "  run_id: 0a64c24edd994328b2a0e2749272b48c\n",
      "\n",
      "RandomForestClassifier(max_depth=19, min_samples_split=3, n_estimators=355,\n",
      "                       random_state=786)\n",
      "[1 0 0 1 0 1 0 0 0 0]\n"
     ]
    }
   ],
   "source": [
    "# Set the uri\n",
    "logged_model = r'mlruns/1/0a64c24edd994328b2a0e2749272b48c/artifacts/model_mlflow/'\n",
    "\n",
    "# Load model as a PyFuncModel\n",
    "loaded_model = mlflow.pyfunc.load_model(logged_model)\n",
    "print(loaded_model)\n",
    "\n",
    "# load as a xgboost model\n",
    "rforest_model = mlflow.sklearn.load_model(logged_model)\n",
    "print(rforest_model)\n",
    "\n",
    "# Predict on a Pandas DataFrame.\n",
    "predictions = rforest_model.predict(X_test_trf)\n",
    "print(predictions[:10])"
   ]
  },
  {
   "attachments": {},
   "cell_type": "markdown",
   "metadata": {},
   "source": [
    "This is the final experiment with randomforest. We will now moveto model registry"
   ]
  },
  {
   "cell_type": "markdown",
   "metadata": {},
   "source": []
  }
 ],
 "metadata": {
  "kernelspec": {
   "display_name": "Persistency-1bw1YpJo",
   "language": "python",
   "name": "python3"
  },
  "language_info": {
   "codemirror_mode": {
    "name": "ipython",
    "version": 3
   },
   "file_extension": ".py",
   "mimetype": "text/x-python",
   "name": "python",
   "nbconvert_exporter": "python",
   "pygments_lexer": "ipython3",
   "version": "3.8.8 (tags/v3.8.8:024d805, Feb 19 2021, 13:18:16) [MSC v.1928 64 bit (AMD64)]"
  },
  "vscode": {
   "interpreter": {
    "hash": "1e30edc846a700ed52d786cf8a77501bf87711068f2d1ddfcfe069da441799cb"
   }
  }
 },
 "nbformat": 4,
 "nbformat_minor": 2
}
